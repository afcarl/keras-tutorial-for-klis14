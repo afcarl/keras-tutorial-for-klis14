{
 "cells": [
  {
   "cell_type": "code",
   "execution_count": 1,
   "metadata": {
    "collapsed": false
   },
   "outputs": [
    {
     "name": "stderr",
     "output_type": "stream",
     "text": [
      "/usr/local/var/pyenv/versions/anaconda3-4.1.1/lib/python3.5/site-packages/gensim/utils.py:1015: UserWarning: Pattern library is not installed, lemmatization won't be available.\n",
      "  warnings.warn(\"Pattern library is not installed, lemmatization won't be available.\")\n"
     ]
    }
   ],
   "source": [
    "import gensim\n",
    "from gensim.models import word2vec"
   ]
  },
  {
   "cell_type": "markdown",
   "metadata": {},
   "source": [
    "1行に1文書が空白区切りで入ってる場合，lineSentenceで読み込み\n",
    "学習は `word2vec.Word2Vec`\n",
    "\n",
    "- `size` : 単語ベクトルの次元数\n",
    "- `window` : 文脈窓幅\n",
    "- `min_count` : 頻度がこのあたりよりも小さい語彙は使わない\n",
    "- `sg`: skip-gramを使うかどうか（0ならCBoWを使い，1ならskip-gram）．\n",
    "- `hs`: 階層ソフトマックスを使うか (0ならnegative samplingを使い，1なら階層ソフトマックスを使う）\n",
    "- `negative`: negative samplingの負例の数，多い方がいいけど時間もかかる"
   ]
  },
  {
   "cell_type": "code",
   "execution_count": 3,
   "metadata": {
    "collapsed": false
   },
   "outputs": [],
   "source": [
    "sentences = word2vec.LineSentence(\"~/Downloads/text8\")\n",
    "model = word2vec.Word2Vec(sentences=sentences, size=100, window=5, min_count=5, sg=0, hs=0, negative=5)"
   ]
  },
  {
   "cell_type": "markdown",
   "metadata": {},
   "source": [
    "analogy ( $king-man+woman$ のベクトルで類似度の高い単語の一覧）\n",
    "\n",
    "`most_similar` より `most_similar_cosmul` のほうがいいという報告もある"
   ]
  },
  {
   "cell_type": "code",
   "execution_count": 4,
   "metadata": {
    "collapsed": false
   },
   "outputs": [
    {
     "name": "stdout",
     "output_type": "stream",
     "text": [
      "queen 0.9015006422996521\n",
      "throne 0.8782628774642944\n",
      "empress 0.8769869804382324\n",
      "princess 0.8691617250442505\n",
      "sigismund 0.8601803183555603\n",
      "son 0.8589732050895691\n",
      "sibylla 0.8567854762077332\n",
      "daughter 0.8564445972442627\n",
      "consort 0.8540396690368652\n",
      "prince 0.8536821603775024\n"
     ]
    }
   ],
   "source": [
    "for k, v in model.most_similar_cosmul(positive=[\"king\", \"woman\"], negative=[\"man\"]):\n",
    "    print(k, v)"
   ]
  },
  {
   "cell_type": "markdown",
   "metadata": {
    "collapsed": true
   },
   "source": [
    "word similarity (単語の類似度計算）\n",
    "\"alice\" と近い単語上位10件．aliceと近いので人名が多い．"
   ]
  },
  {
   "cell_type": "code",
   "execution_count": 5,
   "metadata": {
    "collapsed": false
   },
   "outputs": [
    {
     "data": {
      "text/plain": [
       "[('dick', 0.8054400682449341),\n",
       " ('jack', 0.7888479828834534),\n",
       " ('bob', 0.7850176095962524),\n",
       " ('lucy', 0.784278392791748),\n",
       " ('tim', 0.7819783687591553),\n",
       " ('carol', 0.7810059189796448),\n",
       " ('matt', 0.7763636112213135),\n",
       " ('mitchell', 0.7761332392692566),\n",
       " ('donald', 0.77519690990448),\n",
       " ('robin', 0.7748860716819763)]"
      ]
     },
     "execution_count": 5,
     "metadata": {},
     "output_type": "execute_result"
    }
   ],
   "source": [
    "model.similar_by_word(\"alice\")"
   ]
  },
  {
   "cell_type": "code",
   "execution_count": null,
   "metadata": {
    "collapsed": true
   },
   "outputs": [],
   "source": []
  }
 ],
 "metadata": {
  "anaconda-cloud": {},
  "kernelspec": {
   "display_name": "Python [default]",
   "language": "python",
   "name": "python3"
  },
  "language_info": {
   "codemirror_mode": {
    "name": "ipython",
    "version": 3
   },
   "file_extension": ".py",
   "mimetype": "text/x-python",
   "name": "python",
   "nbconvert_exporter": "python",
   "pygments_lexer": "ipython3",
   "version": "3.5.2"
  }
 },
 "nbformat": 4,
 "nbformat_minor": 1
}
